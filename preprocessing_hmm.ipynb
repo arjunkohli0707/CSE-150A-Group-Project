{
  "cells": [
    {
      "cell_type": "markdown",
      "metadata": {
        "id": "iME7fjecJtJX"
      },
      "source": [
        "# Imports"
      ]
    },
    {
      "cell_type": "code",
      "execution_count": 24,
      "metadata": {
        "id": "tp-FG9fEJtJY"
      },
      "outputs": [],
      "source": [
        "import pandas as pd\n",
        "import numpy as np\n",
        "from sklearn.preprocessing import LabelEncoder, StandardScaler"
      ]
    },
    {
      "cell_type": "markdown",
      "metadata": {
        "id": "pBB32jr0JtJY"
      },
      "source": [
        "# Read Data"
      ]
    },
    {
      "cell_type": "code",
      "execution_count": 124,
      "metadata": {
        "id": "6zDuFpq1JtJY"
      },
      "outputs": [],
      "source": [
        "df = pd.read_csv('./AAPL(80-24) Final.csv')"
      ]
    },
    {
      "cell_type": "markdown",
      "metadata": {
        "id": "XxiwAeOYJtJY"
      },
      "source": [
        "# Helper Functions"
      ]
    },
    {
      "cell_type": "code",
      "execution_count": 125,
      "metadata": {
        "id": "2dnL-_qiJtJZ"
      },
      "outputs": [],
      "source": [
        "# Convert 'Vol.' and 'Change %' to numeric (same as preprocessing.py)\n",
        "def convert_volume_to_numeric(volume_str):\n",
        "    if isinstance(volume_str, str):\n",
        "        if 'M' in volume_str:\n",
        "            return float(volume_str.replace('M', '')) * 1e6\n",
        "        elif 'B' in volume_str:\n",
        "            return float(volume_str.replace('B', '')) * 1e9\n",
        "    return float(volume_str)\n",
        "\n",
        "def convert_change_to_numeric(change_str):\n",
        "    try:\n",
        "        if isinstance(change_str, str) and '%' in change_str:\n",
        "            return float(change_str.replace('%', '')) / 100\n",
        "        return float(change_str)\n",
        "    except ValueError:\n",
        "        return np.nan"
      ]
    },
    {
      "cell_type": "markdown",
      "metadata": {
        "id": "XCKu-hXnJtJZ"
      },
      "source": [
        "# Data Processing"
      ]
    },
    {
      "cell_type": "code",
      "execution_count": 126,
      "metadata": {
        "id": "zxzBI58pJtJZ"
      },
      "outputs": [],
      "source": [
        "df['Date'] = pd.to_datetime(df['Date'])\n",
        "df = df.sort_values('Date').reset_index(drop=True)\n",
        "\n",
        "df['Year'] = df['Date'].dt.year\n",
        "# df['Month'] = df['Date'].dt.month # 12 discrete states\n",
        "df['Day'] = df['Date'].dt.day\n",
        "df['Day_of_week'] = df['Date'].dt.dayofweek + 1 # 7 discrete states(1 to 7)\n",
        "df['Quarter'] = df['Date'].dt.quarter # 4 discrete states (1-4)"
      ]
    },
    {
      "cell_type": "code",
      "execution_count": 127,
      "metadata": {
        "id": "cqeGRm79JtJZ"
      },
      "outputs": [],
      "source": [
        "df['Vol.'] = df['Vol.'].apply(convert_volume_to_numeric)\n",
        "df['Change %'] = df['Change %'].apply(convert_change_to_numeric)"
      ]
    },
    {
      "cell_type": "code",
      "execution_count": 128,
      "metadata": {
        "id": "Kc8wMrLEJtJZ"
      },
      "outputs": [],
      "source": [
        "numeric_cols = ['Price', 'Open', 'High', 'Low', 'Vol.', 'Change %']\n",
        "df[numeric_cols] = df[numeric_cols].fillna(df[numeric_cols].mean())"
      ]
    },
    {
      "cell_type": "code",
      "execution_count": 129,
      "metadata": {
        "colab": {
          "base_uri": "https://localhost:8080/"
        },
        "id": "bmehNCgCJtJZ",
        "outputId": "1bf362c5-4339-417f-d198-0ab2b517998c"
      },
      "outputs": [
        {
          "output_type": "stream",
          "name": "stdout",
          "text": [
            "Date           0\n",
            "Price          0\n",
            "Open           0\n",
            "High           0\n",
            "Low            0\n",
            "Vol.           0\n",
            "Change %       0\n",
            "Year           0\n",
            "Day            0\n",
            "Day_of_week    0\n",
            "Quarter        0\n",
            "dtype: int64\n"
          ]
        }
      ],
      "source": [
        "print(df.isnull().sum())"
      ]
    },
    {
      "cell_type": "markdown",
      "metadata": {
        "id": "Y3UpcV3-JtJa"
      },
      "source": [
        "# Target Creation"
      ]
    },
    {
      "cell_type": "code",
      "execution_count": 130,
      "metadata": {
        "id": "4MZyEEkuJtJa"
      },
      "outputs": [],
      "source": [
        "QUARTER_DAYS = 63\n",
        "df['Price_future_quarter'] = df['Price'].shift(-QUARTER_DAYS)\n",
        "df['Quarterly_change_pct'] = ((df['Price_future_quarter'] - df['Price']) / df['Price']) * 100\n",
        "\n",
        "# Binary direction target\n",
        "df['Direction_quarter'] = (df['Quarterly_change_pct'] > 0).astype(int)\n",
        "\n",
        "# Multi-class trend classification\n",
        "valid_changes = df['Quarterly_change_pct'].dropna()\n",
        "valid_changes_neg = valid_changes[valid_changes < 0]\n",
        "valid_changes_pos = valid_changes[valid_changes > 0]\n",
        "\n",
        "thresholds = {\n",
        "    'large_dec': np.percentile(valid_changes_neg, 10),\n",
        "    'moderate_dec': np.percentile(valid_changes_neg, 30),\n",
        "    'moderate_inc': np.percentile(valid_changes_pos, 70),\n",
        "    'large_inc': np.percentile(valid_changes_pos, 90)\n",
        "}\n",
        "\n",
        "conditions = [\n",
        "    # Negative classes\n",
        "    (df['Quarterly_change_pct'] < thresholds['large_dec']),\n",
        "    (df['Quarterly_change_pct'] >= thresholds['large_dec']) & (df['Quarterly_change_pct'] < thresholds['moderate_dec']),\n",
        "    (df['Quarterly_change_pct'] >= thresholds['moderate_dec']) & (df['Quarterly_change_pct'] < 0),\n",
        "\n",
        "    # Positive classes\n",
        "    (df['Quarterly_change_pct'] >= 0) & (df['Quarterly_change_pct'] < thresholds['moderate_inc']),\n",
        "    (df['Quarterly_change_pct'] >= thresholds['moderate_inc']) & (df['Quarterly_change_pct'] < thresholds['large_inc']),\n",
        "    (df['Quarterly_change_pct'] >= thresholds['large_inc'])\n",
        "]\n",
        "\n",
        "labels = [\n",
        "    'large_decrease',\n",
        "    'moderate_decrease',\n",
        "    'small_decrease',\n",
        "    'small_increase',\n",
        "    'moderate_increase',\n",
        "    'large_increase'\n",
        "]\n",
        "\n",
        "df['Trend_class'] = np.select(conditions, labels, default=np.nan)"
      ]
    },
    {
      "cell_type": "code",
      "source": [
        "df = df.dropna().reset_index(drop=True)"
      ],
      "metadata": {
        "id": "0vFvw_2iJ9TI"
      },
      "execution_count": 131,
      "outputs": []
    },
    {
      "cell_type": "markdown",
      "source": [
        "# Encoding"
      ],
      "metadata": {
        "id": "OLJ7zunYSBs8"
      }
    },
    {
      "cell_type": "code",
      "source": [
        "encoder = LabelEncoder()\n",
        "df['Trend_class'] = encoder.fit_transform(df['Trend_class'])\n",
        "\n",
        "print(\"Label Encoding Mapping:\")\n",
        "for i, class_name in enumerate(encoder.classes_):\n",
        "    print(f\"{class_name}: {i}\")"
      ],
      "metadata": {
        "colab": {
          "base_uri": "https://localhost:8080/"
        },
        "id": "mYsarWxMSBJs",
        "outputId": "96bc69dc-8b64-4d23-87cf-55ef3c7e6b5a"
      },
      "execution_count": 132,
      "outputs": [
        {
          "output_type": "stream",
          "name": "stdout",
          "text": [
            "Label Encoding Mapping:\n",
            "large_decrease: 0\n",
            "large_increase: 1\n",
            "moderate_decrease: 2\n",
            "moderate_increase: 3\n",
            "small_decrease: 4\n",
            "small_increase: 5\n"
          ]
        }
      ]
    },
    {
      "cell_type": "markdown",
      "source": [
        "# Feature Binning"
      ],
      "metadata": {
        "id": "JJ3h2M1RK6Uy"
      }
    },
    {
      "cell_type": "code",
      "execution_count": 133,
      "metadata": {
        "id": "2KYG1N5uJtJa"
      },
      "outputs": [],
      "source": [
        "df['Year_bin'] = pd.qcut(df['Year'], q=5, labels=False, duplicates='drop')\n",
        "df['Day_bin'] = pd.qcut(df['Day'], q=3, labels=False, duplicates='drop')\n",
        "df['Day_of_week_bin'] = df['Day_of_week']\n",
        "df['Quarter_bin'] = df['Quarter']\n",
        "\n",
        "numeric_features = ['Price', 'Open', 'High', 'Low', 'Vol.', 'Change %']\n",
        "\n",
        "for col in numeric_features:\n",
        "    df[f'{col}_bin'] = pd.qcut(df[col], q=5, labels=False, duplicates='drop')"
      ]
    },
    {
      "cell_type": "markdown",
      "source": [
        "# HMM Observation Creation"
      ],
      "metadata": {
        "id": "MVUXA8N-KeQB"
      }
    },
    {
      "cell_type": "code",
      "source": [
        "# Combine all bins into a single observation code\n",
        "features = ['Price', 'Open', 'High', 'Low', 'Vol.', 'Change %']\n",
        "features_w_temporal = ['Price', 'Open', 'High', 'Low', 'Vol.', 'Change %', 'Day_of_week', 'Quarter']\n",
        "\n",
        "df['observation'] = df[[f'{col}_bin' for col in features]].astype(str).agg('-'.join, axis=1)\n",
        "df['observation_w_temporal'] = df[[f'{col}_bin' for col in features_w_temporal]].astype(str).agg('-'.join, axis=1)\n",
        "encoder1= LabelEncoder()\n",
        "encoder2 = LabelEncoder()\n",
        "df['observation_code'] = encoder1.fit_transform(df['observation'])\n",
        "df['observation_code_w_temporal'] = encoder2.fit_transform(df['observation_w_temporal'])"
      ],
      "metadata": {
        "id": "XqeMleYyKRG1"
      },
      "execution_count": 134,
      "outputs": []
    },
    {
      "cell_type": "code",
      "source": [
        "print(df['observation_code'].nunique())\n",
        "print(df['observation_code_w_temporal'].nunique())"
      ],
      "metadata": {
        "colab": {
          "base_uri": "https://localhost:8080/"
        },
        "id": "FfKvySvuMVbj",
        "outputId": "c7bc0419-e7a4-44f2-f6bd-aae0d8bcf43d"
      },
      "execution_count": 135,
      "outputs": [
        {
          "output_type": "stream",
          "name": "stdout",
          "text": [
            "224\n",
            "1757\n"
          ]
        }
      ]
    },
    {
      "cell_type": "markdown",
      "source": [
        "# Train Test Split"
      ],
      "metadata": {
        "id": "SYweYEk0MhQc"
      }
    },
    {
      "cell_type": "code",
      "source": [
        "# Split into train/test (temporal split)\n",
        "split_idx = int(0.8 * len(df))\n",
        "train_df = df.iloc[:split_idx]\n",
        "test_df = df.iloc[split_idx:]"
      ],
      "metadata": {
        "id": "Tj5pvrfMMYra"
      },
      "execution_count": 136,
      "outputs": []
    },
    {
      "cell_type": "code",
      "source": [
        "train_df.to_csv(\"final_train.csv\", index=False)\n",
        "test_df.to_csv(\"final_test.csv\", index=False)"
      ],
      "metadata": {
        "id": "cF9DAfNNMk35"
      },
      "execution_count": 137,
      "outputs": []
    },
    {
      "cell_type": "markdown",
      "source": [
        "# Gaussian HMM Features"
      ],
      "metadata": {
        "id": "0y35kq5YNaYt"
      }
    },
    {
      "cell_type": "code",
      "source": [
        "features_gaussian = ['Price', 'Open', 'High', 'Low', 'Vol.', 'Change %', 'Day_of_week', 'Quarter']\n",
        "scaler = StandardScaler()\n",
        "df_standardized = pd.DataFrame(scaler.fit_transform(df[features_gaussian]), columns=features_gaussian)\n",
        "\n",
        "df_standardized['Trend_class'] = df['Trend_class'].values\n",
        "df_standardized['Direction_quarter'] = df['Direction_quarter'].values"
      ],
      "metadata": {
        "id": "oj3o-cK-NT5o"
      },
      "execution_count": 138,
      "outputs": []
    },
    {
      "cell_type": "code",
      "source": [
        "df_standardized"
      ],
      "metadata": {
        "colab": {
          "base_uri": "https://localhost:8080/",
          "height": 444
        },
        "id": "LLM1PTdDQWlx",
        "outputId": "e447c61c-85e2-44fa-ea3c-d5a322b8c8eb"
      },
      "execution_count": 139,
      "outputs": [
        {
          "output_type": "execute_result",
          "data": {
            "text/plain": [
              "          Price      Open      High       Low      Vol.   Change %  \\\n",
              "0     -0.475003 -0.475112 -0.475089 -0.474969  0.437682 -22.465808   \n",
              "1     -0.475242 -0.475351 -0.475325 -0.475210 -0.432551  -1.756767   \n",
              "2     -0.475481 -0.475590 -0.475561 -0.475452 -0.640796  -1.900533   \n",
              "3     -0.475242 -0.475351 -0.475325 -0.475210 -0.698059   2.012598   \n",
              "4     -0.475242 -0.475351 -0.475325 -0.475210 -0.736621  -0.029329   \n",
              "...         ...       ...       ...       ...       ...        ...   \n",
              "10844  4.224148  4.209751  4.177078  4.252100 -0.835237   0.091974   \n",
              "10845  4.173768  4.227436  4.194333  4.226504 -0.805848  -0.269687   \n",
              "10846  4.170187  4.208317  4.180151  4.194388 -0.823808  -0.047299   \n",
              "10847  4.144400  4.186330  4.140678  4.181590 -0.844380  -0.152878   \n",
              "10848  4.131268  4.148809  4.104750  4.178210 -0.869138  -0.092226   \n",
              "\n",
              "       Day_of_week   Quarter  Trend_class  Direction_quarter  \n",
              "0         1.415156  1.332052            2                  0  \n",
              "1        -1.441088  1.332052            4                  0  \n",
              "2        -0.727027  1.332052            5                  0  \n",
              "3        -0.012966  1.332052            4                  0  \n",
              "4         0.701095  1.332052            4                  0  \n",
              "...            ...       ...          ...                ...  \n",
              "10844    -0.727027  1.332052            4                  0  \n",
              "10845    -0.012966  1.332052            4                  0  \n",
              "10846     0.701095  1.332052            4                  0  \n",
              "10847     1.415156  1.332052            4                  0  \n",
              "10848    -0.727027  1.332052            4                  0  \n",
              "\n",
              "[10849 rows x 10 columns]"
            ],
            "text/html": [
              "\n",
              "  <div id=\"df-e02cfa3e-7ffb-42aa-b522-4146ef1fbdcf\" class=\"colab-df-container\">\n",
              "    <div>\n",
              "<style scoped>\n",
              "    .dataframe tbody tr th:only-of-type {\n",
              "        vertical-align: middle;\n",
              "    }\n",
              "\n",
              "    .dataframe tbody tr th {\n",
              "        vertical-align: top;\n",
              "    }\n",
              "\n",
              "    .dataframe thead th {\n",
              "        text-align: right;\n",
              "    }\n",
              "</style>\n",
              "<table border=\"1\" class=\"dataframe\">\n",
              "  <thead>\n",
              "    <tr style=\"text-align: right;\">\n",
              "      <th></th>\n",
              "      <th>Price</th>\n",
              "      <th>Open</th>\n",
              "      <th>High</th>\n",
              "      <th>Low</th>\n",
              "      <th>Vol.</th>\n",
              "      <th>Change %</th>\n",
              "      <th>Day_of_week</th>\n",
              "      <th>Quarter</th>\n",
              "      <th>Trend_class</th>\n",
              "      <th>Direction_quarter</th>\n",
              "    </tr>\n",
              "  </thead>\n",
              "  <tbody>\n",
              "    <tr>\n",
              "      <th>0</th>\n",
              "      <td>-0.475003</td>\n",
              "      <td>-0.475112</td>\n",
              "      <td>-0.475089</td>\n",
              "      <td>-0.474969</td>\n",
              "      <td>0.437682</td>\n",
              "      <td>-22.465808</td>\n",
              "      <td>1.415156</td>\n",
              "      <td>1.332052</td>\n",
              "      <td>2</td>\n",
              "      <td>0</td>\n",
              "    </tr>\n",
              "    <tr>\n",
              "      <th>1</th>\n",
              "      <td>-0.475242</td>\n",
              "      <td>-0.475351</td>\n",
              "      <td>-0.475325</td>\n",
              "      <td>-0.475210</td>\n",
              "      <td>-0.432551</td>\n",
              "      <td>-1.756767</td>\n",
              "      <td>-1.441088</td>\n",
              "      <td>1.332052</td>\n",
              "      <td>4</td>\n",
              "      <td>0</td>\n",
              "    </tr>\n",
              "    <tr>\n",
              "      <th>2</th>\n",
              "      <td>-0.475481</td>\n",
              "      <td>-0.475590</td>\n",
              "      <td>-0.475561</td>\n",
              "      <td>-0.475452</td>\n",
              "      <td>-0.640796</td>\n",
              "      <td>-1.900533</td>\n",
              "      <td>-0.727027</td>\n",
              "      <td>1.332052</td>\n",
              "      <td>5</td>\n",
              "      <td>0</td>\n",
              "    </tr>\n",
              "    <tr>\n",
              "      <th>3</th>\n",
              "      <td>-0.475242</td>\n",
              "      <td>-0.475351</td>\n",
              "      <td>-0.475325</td>\n",
              "      <td>-0.475210</td>\n",
              "      <td>-0.698059</td>\n",
              "      <td>2.012598</td>\n",
              "      <td>-0.012966</td>\n",
              "      <td>1.332052</td>\n",
              "      <td>4</td>\n",
              "      <td>0</td>\n",
              "    </tr>\n",
              "    <tr>\n",
              "      <th>4</th>\n",
              "      <td>-0.475242</td>\n",
              "      <td>-0.475351</td>\n",
              "      <td>-0.475325</td>\n",
              "      <td>-0.475210</td>\n",
              "      <td>-0.736621</td>\n",
              "      <td>-0.029329</td>\n",
              "      <td>0.701095</td>\n",
              "      <td>1.332052</td>\n",
              "      <td>4</td>\n",
              "      <td>0</td>\n",
              "    </tr>\n",
              "    <tr>\n",
              "      <th>...</th>\n",
              "      <td>...</td>\n",
              "      <td>...</td>\n",
              "      <td>...</td>\n",
              "      <td>...</td>\n",
              "      <td>...</td>\n",
              "      <td>...</td>\n",
              "      <td>...</td>\n",
              "      <td>...</td>\n",
              "      <td>...</td>\n",
              "      <td>...</td>\n",
              "    </tr>\n",
              "    <tr>\n",
              "      <th>10844</th>\n",
              "      <td>4.224148</td>\n",
              "      <td>4.209751</td>\n",
              "      <td>4.177078</td>\n",
              "      <td>4.252100</td>\n",
              "      <td>-0.835237</td>\n",
              "      <td>0.091974</td>\n",
              "      <td>-0.727027</td>\n",
              "      <td>1.332052</td>\n",
              "      <td>4</td>\n",
              "      <td>0</td>\n",
              "    </tr>\n",
              "    <tr>\n",
              "      <th>10845</th>\n",
              "      <td>4.173768</td>\n",
              "      <td>4.227436</td>\n",
              "      <td>4.194333</td>\n",
              "      <td>4.226504</td>\n",
              "      <td>-0.805848</td>\n",
              "      <td>-0.269687</td>\n",
              "      <td>-0.012966</td>\n",
              "      <td>1.332052</td>\n",
              "      <td>4</td>\n",
              "      <td>0</td>\n",
              "    </tr>\n",
              "    <tr>\n",
              "      <th>10846</th>\n",
              "      <td>4.170187</td>\n",
              "      <td>4.208317</td>\n",
              "      <td>4.180151</td>\n",
              "      <td>4.194388</td>\n",
              "      <td>-0.823808</td>\n",
              "      <td>-0.047299</td>\n",
              "      <td>0.701095</td>\n",
              "      <td>1.332052</td>\n",
              "      <td>4</td>\n",
              "      <td>0</td>\n",
              "    </tr>\n",
              "    <tr>\n",
              "      <th>10847</th>\n",
              "      <td>4.144400</td>\n",
              "      <td>4.186330</td>\n",
              "      <td>4.140678</td>\n",
              "      <td>4.181590</td>\n",
              "      <td>-0.844380</td>\n",
              "      <td>-0.152878</td>\n",
              "      <td>1.415156</td>\n",
              "      <td>1.332052</td>\n",
              "      <td>4</td>\n",
              "      <td>0</td>\n",
              "    </tr>\n",
              "    <tr>\n",
              "      <th>10848</th>\n",
              "      <td>4.131268</td>\n",
              "      <td>4.148809</td>\n",
              "      <td>4.104750</td>\n",
              "      <td>4.178210</td>\n",
              "      <td>-0.869138</td>\n",
              "      <td>-0.092226</td>\n",
              "      <td>-0.727027</td>\n",
              "      <td>1.332052</td>\n",
              "      <td>4</td>\n",
              "      <td>0</td>\n",
              "    </tr>\n",
              "  </tbody>\n",
              "</table>\n",
              "<p>10849 rows × 10 columns</p>\n",
              "</div>\n",
              "    <div class=\"colab-df-buttons\">\n",
              "\n",
              "  <div class=\"colab-df-container\">\n",
              "    <button class=\"colab-df-convert\" onclick=\"convertToInteractive('df-e02cfa3e-7ffb-42aa-b522-4146ef1fbdcf')\"\n",
              "            title=\"Convert this dataframe to an interactive table.\"\n",
              "            style=\"display:none;\">\n",
              "\n",
              "  <svg xmlns=\"http://www.w3.org/2000/svg\" height=\"24px\" viewBox=\"0 -960 960 960\">\n",
              "    <path d=\"M120-120v-720h720v720H120Zm60-500h600v-160H180v160Zm220 220h160v-160H400v160Zm0 220h160v-160H400v160ZM180-400h160v-160H180v160Zm440 0h160v-160H620v160ZM180-180h160v-160H180v160Zm440 0h160v-160H620v160Z\"/>\n",
              "  </svg>\n",
              "    </button>\n",
              "\n",
              "  <style>\n",
              "    .colab-df-container {\n",
              "      display:flex;\n",
              "      gap: 12px;\n",
              "    }\n",
              "\n",
              "    .colab-df-convert {\n",
              "      background-color: #E8F0FE;\n",
              "      border: none;\n",
              "      border-radius: 50%;\n",
              "      cursor: pointer;\n",
              "      display: none;\n",
              "      fill: #1967D2;\n",
              "      height: 32px;\n",
              "      padding: 0 0 0 0;\n",
              "      width: 32px;\n",
              "    }\n",
              "\n",
              "    .colab-df-convert:hover {\n",
              "      background-color: #E2EBFA;\n",
              "      box-shadow: 0px 1px 2px rgba(60, 64, 67, 0.3), 0px 1px 3px 1px rgba(60, 64, 67, 0.15);\n",
              "      fill: #174EA6;\n",
              "    }\n",
              "\n",
              "    .colab-df-buttons div {\n",
              "      margin-bottom: 4px;\n",
              "    }\n",
              "\n",
              "    [theme=dark] .colab-df-convert {\n",
              "      background-color: #3B4455;\n",
              "      fill: #D2E3FC;\n",
              "    }\n",
              "\n",
              "    [theme=dark] .colab-df-convert:hover {\n",
              "      background-color: #434B5C;\n",
              "      box-shadow: 0px 1px 3px 1px rgba(0, 0, 0, 0.15);\n",
              "      filter: drop-shadow(0px 1px 2px rgba(0, 0, 0, 0.3));\n",
              "      fill: #FFFFFF;\n",
              "    }\n",
              "  </style>\n",
              "\n",
              "    <script>\n",
              "      const buttonEl =\n",
              "        document.querySelector('#df-e02cfa3e-7ffb-42aa-b522-4146ef1fbdcf button.colab-df-convert');\n",
              "      buttonEl.style.display =\n",
              "        google.colab.kernel.accessAllowed ? 'block' : 'none';\n",
              "\n",
              "      async function convertToInteractive(key) {\n",
              "        const element = document.querySelector('#df-e02cfa3e-7ffb-42aa-b522-4146ef1fbdcf');\n",
              "        const dataTable =\n",
              "          await google.colab.kernel.invokeFunction('convertToInteractive',\n",
              "                                                    [key], {});\n",
              "        if (!dataTable) return;\n",
              "\n",
              "        const docLinkHtml = 'Like what you see? Visit the ' +\n",
              "          '<a target=\"_blank\" href=https://colab.research.google.com/notebooks/data_table.ipynb>data table notebook</a>'\n",
              "          + ' to learn more about interactive tables.';\n",
              "        element.innerHTML = '';\n",
              "        dataTable['output_type'] = 'display_data';\n",
              "        await google.colab.output.renderOutput(dataTable, element);\n",
              "        const docLink = document.createElement('div');\n",
              "        docLink.innerHTML = docLinkHtml;\n",
              "        element.appendChild(docLink);\n",
              "      }\n",
              "    </script>\n",
              "  </div>\n",
              "\n",
              "\n",
              "<div id=\"df-7725cd01-7246-4b95-9177-7edea4908b37\">\n",
              "  <button class=\"colab-df-quickchart\" onclick=\"quickchart('df-7725cd01-7246-4b95-9177-7edea4908b37')\"\n",
              "            title=\"Suggest charts\"\n",
              "            style=\"display:none;\">\n",
              "\n",
              "<svg xmlns=\"http://www.w3.org/2000/svg\" height=\"24px\"viewBox=\"0 0 24 24\"\n",
              "     width=\"24px\">\n",
              "    <g>\n",
              "        <path d=\"M19 3H5c-1.1 0-2 .9-2 2v14c0 1.1.9 2 2 2h14c1.1 0 2-.9 2-2V5c0-1.1-.9-2-2-2zM9 17H7v-7h2v7zm4 0h-2V7h2v10zm4 0h-2v-4h2v4z\"/>\n",
              "    </g>\n",
              "</svg>\n",
              "  </button>\n",
              "\n",
              "<style>\n",
              "  .colab-df-quickchart {\n",
              "      --bg-color: #E8F0FE;\n",
              "      --fill-color: #1967D2;\n",
              "      --hover-bg-color: #E2EBFA;\n",
              "      --hover-fill-color: #174EA6;\n",
              "      --disabled-fill-color: #AAA;\n",
              "      --disabled-bg-color: #DDD;\n",
              "  }\n",
              "\n",
              "  [theme=dark] .colab-df-quickchart {\n",
              "      --bg-color: #3B4455;\n",
              "      --fill-color: #D2E3FC;\n",
              "      --hover-bg-color: #434B5C;\n",
              "      --hover-fill-color: #FFFFFF;\n",
              "      --disabled-bg-color: #3B4455;\n",
              "      --disabled-fill-color: #666;\n",
              "  }\n",
              "\n",
              "  .colab-df-quickchart {\n",
              "    background-color: var(--bg-color);\n",
              "    border: none;\n",
              "    border-radius: 50%;\n",
              "    cursor: pointer;\n",
              "    display: none;\n",
              "    fill: var(--fill-color);\n",
              "    height: 32px;\n",
              "    padding: 0;\n",
              "    width: 32px;\n",
              "  }\n",
              "\n",
              "  .colab-df-quickchart:hover {\n",
              "    background-color: var(--hover-bg-color);\n",
              "    box-shadow: 0 1px 2px rgba(60, 64, 67, 0.3), 0 1px 3px 1px rgba(60, 64, 67, 0.15);\n",
              "    fill: var(--button-hover-fill-color);\n",
              "  }\n",
              "\n",
              "  .colab-df-quickchart-complete:disabled,\n",
              "  .colab-df-quickchart-complete:disabled:hover {\n",
              "    background-color: var(--disabled-bg-color);\n",
              "    fill: var(--disabled-fill-color);\n",
              "    box-shadow: none;\n",
              "  }\n",
              "\n",
              "  .colab-df-spinner {\n",
              "    border: 2px solid var(--fill-color);\n",
              "    border-color: transparent;\n",
              "    border-bottom-color: var(--fill-color);\n",
              "    animation:\n",
              "      spin 1s steps(1) infinite;\n",
              "  }\n",
              "\n",
              "  @keyframes spin {\n",
              "    0% {\n",
              "      border-color: transparent;\n",
              "      border-bottom-color: var(--fill-color);\n",
              "      border-left-color: var(--fill-color);\n",
              "    }\n",
              "    20% {\n",
              "      border-color: transparent;\n",
              "      border-left-color: var(--fill-color);\n",
              "      border-top-color: var(--fill-color);\n",
              "    }\n",
              "    30% {\n",
              "      border-color: transparent;\n",
              "      border-left-color: var(--fill-color);\n",
              "      border-top-color: var(--fill-color);\n",
              "      border-right-color: var(--fill-color);\n",
              "    }\n",
              "    40% {\n",
              "      border-color: transparent;\n",
              "      border-right-color: var(--fill-color);\n",
              "      border-top-color: var(--fill-color);\n",
              "    }\n",
              "    60% {\n",
              "      border-color: transparent;\n",
              "      border-right-color: var(--fill-color);\n",
              "    }\n",
              "    80% {\n",
              "      border-color: transparent;\n",
              "      border-right-color: var(--fill-color);\n",
              "      border-bottom-color: var(--fill-color);\n",
              "    }\n",
              "    90% {\n",
              "      border-color: transparent;\n",
              "      border-bottom-color: var(--fill-color);\n",
              "    }\n",
              "  }\n",
              "</style>\n",
              "\n",
              "  <script>\n",
              "    async function quickchart(key) {\n",
              "      const quickchartButtonEl =\n",
              "        document.querySelector('#' + key + ' button');\n",
              "      quickchartButtonEl.disabled = true;  // To prevent multiple clicks.\n",
              "      quickchartButtonEl.classList.add('colab-df-spinner');\n",
              "      try {\n",
              "        const charts = await google.colab.kernel.invokeFunction(\n",
              "            'suggestCharts', [key], {});\n",
              "      } catch (error) {\n",
              "        console.error('Error during call to suggestCharts:', error);\n",
              "      }\n",
              "      quickchartButtonEl.classList.remove('colab-df-spinner');\n",
              "      quickchartButtonEl.classList.add('colab-df-quickchart-complete');\n",
              "    }\n",
              "    (() => {\n",
              "      let quickchartButtonEl =\n",
              "        document.querySelector('#df-7725cd01-7246-4b95-9177-7edea4908b37 button');\n",
              "      quickchartButtonEl.style.display =\n",
              "        google.colab.kernel.accessAllowed ? 'block' : 'none';\n",
              "    })();\n",
              "  </script>\n",
              "</div>\n",
              "\n",
              "  <div id=\"id_c0e56556-0d78-4c66-80d7-77a2d50ddae4\">\n",
              "    <style>\n",
              "      .colab-df-generate {\n",
              "        background-color: #E8F0FE;\n",
              "        border: none;\n",
              "        border-radius: 50%;\n",
              "        cursor: pointer;\n",
              "        display: none;\n",
              "        fill: #1967D2;\n",
              "        height: 32px;\n",
              "        padding: 0 0 0 0;\n",
              "        width: 32px;\n",
              "      }\n",
              "\n",
              "      .colab-df-generate:hover {\n",
              "        background-color: #E2EBFA;\n",
              "        box-shadow: 0px 1px 2px rgba(60, 64, 67, 0.3), 0px 1px 3px 1px rgba(60, 64, 67, 0.15);\n",
              "        fill: #174EA6;\n",
              "      }\n",
              "\n",
              "      [theme=dark] .colab-df-generate {\n",
              "        background-color: #3B4455;\n",
              "        fill: #D2E3FC;\n",
              "      }\n",
              "\n",
              "      [theme=dark] .colab-df-generate:hover {\n",
              "        background-color: #434B5C;\n",
              "        box-shadow: 0px 1px 3px 1px rgba(0, 0, 0, 0.15);\n",
              "        filter: drop-shadow(0px 1px 2px rgba(0, 0, 0, 0.3));\n",
              "        fill: #FFFFFF;\n",
              "      }\n",
              "    </style>\n",
              "    <button class=\"colab-df-generate\" onclick=\"generateWithVariable('df_standardized')\"\n",
              "            title=\"Generate code using this dataframe.\"\n",
              "            style=\"display:none;\">\n",
              "\n",
              "  <svg xmlns=\"http://www.w3.org/2000/svg\" height=\"24px\"viewBox=\"0 0 24 24\"\n",
              "       width=\"24px\">\n",
              "    <path d=\"M7,19H8.4L18.45,9,17,7.55,7,17.6ZM5,21V16.75L18.45,3.32a2,2,0,0,1,2.83,0l1.4,1.43a1.91,1.91,0,0,1,.58,1.4,1.91,1.91,0,0,1-.58,1.4L9.25,21ZM18.45,9,17,7.55Zm-12,3A5.31,5.31,0,0,0,4.9,8.1,5.31,5.31,0,0,0,1,6.5,5.31,5.31,0,0,0,4.9,4.9,5.31,5.31,0,0,0,6.5,1,5.31,5.31,0,0,0,8.1,4.9,5.31,5.31,0,0,0,12,6.5,5.46,5.46,0,0,0,6.5,12Z\"/>\n",
              "  </svg>\n",
              "    </button>\n",
              "    <script>\n",
              "      (() => {\n",
              "      const buttonEl =\n",
              "        document.querySelector('#id_c0e56556-0d78-4c66-80d7-77a2d50ddae4 button.colab-df-generate');\n",
              "      buttonEl.style.display =\n",
              "        google.colab.kernel.accessAllowed ? 'block' : 'none';\n",
              "\n",
              "      buttonEl.onclick = () => {\n",
              "        google.colab.notebook.generateWithVariable('df_standardized');\n",
              "      }\n",
              "      })();\n",
              "    </script>\n",
              "  </div>\n",
              "\n",
              "    </div>\n",
              "  </div>\n"
            ],
            "application/vnd.google.colaboratory.intrinsic+json": {
              "type": "dataframe",
              "variable_name": "df_standardized",
              "summary": "{\n  \"name\": \"df_standardized\",\n  \"rows\": 10849,\n  \"fields\": [\n    {\n      \"column\": \"Price\",\n      \"properties\": {\n        \"dtype\": \"number\",\n        \"std\": 1.0000460903832649,\n        \"min\": -0.4769135719918233,\n        \"max\": 4.2520834227043345,\n        \"num_unique_values\": 3412,\n        \"samples\": [\n          0.4602425021363407,\n          0.7663403587050813,\n          -0.4336969479364864\n        ],\n        \"semantic_type\": \"\",\n        \"description\": \"\"\n      }\n    },\n    {\n      \"column\": \"Open\",\n      \"properties\": {\n        \"dtype\": \"number\",\n        \"std\": 1.0000460903832653,\n        \"min\": -0.47702344012167863,\n        \"max\": 4.254202329522152,\n        \"num_unique_values\": 3390,\n        \"samples\": [\n          -0.44141437613840184,\n          0.16417869858390285,\n          1.3399947710518345\n        ],\n        \"semantic_type\": \"\",\n        \"description\": \"\"\n      }\n    },\n    {\n      \"column\": \"High\",\n      \"properties\": {\n        \"dtype\": \"number\",\n        \"std\": 1.0000460903832649,\n        \"min\": -0.476979637023532,\n        \"max\": 4.24018803515148,\n        \"num_unique_values\": 3402,\n        \"samples\": [\n          -0.39803320206304427,\n          0.19997422443406346,\n          0.5100871665543028\n        ],\n        \"semantic_type\": \"\",\n        \"description\": \"\"\n      }\n    },\n    {\n      \"column\": \"Low\",\n      \"properties\": {\n        \"dtype\": \"number\",\n        \"std\": 1.0000460903832666,\n        \"min\": -0.476900602186692,\n        \"max\": 4.278903881762318,\n        \"num_unique_values\": 3393,\n        \"samples\": [\n          -0.3962487261958837,\n          0.015220724966802922,\n          0.6447400085238006\n        ],\n        \"semantic_type\": \"\",\n        \"description\": \"\"\n      }\n    },\n    {\n      \"column\": \"Vol.\",\n      \"properties\": {\n        \"dtype\": \"number\",\n        \"std\": 1.0000460903832666,\n        \"min\": -0.9505355088953427,\n        \"max\": 21.10174000565245,\n        \"num_unique_values\": 9376,\n        \"samples\": [\n          -0.6660287054268257,\n          0.3392444991493285,\n          -0.2616811292535503\n        ],\n        \"semantic_type\": \"\",\n        \"description\": \"\"\n      }\n    },\n    {\n      \"column\": \"Change %\",\n      \"properties\": {\n        \"dtype\": \"number\",\n        \"std\": 1.0000460903832695,\n        \"min\": -22.465807726456845,\n        \"max\": 67.38793277792084,\n        \"num_unique_values\": 1126,\n        \"samples\": [\n          -0.624609753355242,\n          -0.7189561808848386,\n          0.6558060488321399\n        ],\n        \"semantic_type\": \"\",\n        \"description\": \"\"\n      }\n    },\n    {\n      \"column\": \"Day_of_week\",\n      \"properties\": {\n        \"dtype\": \"number\",\n        \"std\": 1.0000460903833206,\n        \"min\": -1.441088269954923,\n        \"max\": 2.1292169688532434,\n        \"num_unique_values\": 6,\n        \"samples\": [\n          1.41515592109161,\n          -1.441088269954923,\n          2.1292169688532434\n        ],\n        \"semantic_type\": \"\",\n        \"description\": \"\"\n      }\n    },\n    {\n      \"column\": \"Quarter\",\n      \"properties\": {\n        \"dtype\": \"number\",\n        \"std\": 1.000046090383266,\n        \"min\": -1.356085994357334,\n        \"max\": 1.3320515815211083,\n        \"num_unique_values\": 4,\n        \"samples\": [\n          -1.356085994357334,\n          0.43600572289496087,\n          1.3320515815211083\n        ],\n        \"semantic_type\": \"\",\n        \"description\": \"\"\n      }\n    },\n    {\n      \"column\": \"Trend_class\",\n      \"properties\": {\n        \"dtype\": \"number\",\n        \"std\": 1,\n        \"min\": 0,\n        \"max\": 5,\n        \"num_unique_values\": 6,\n        \"samples\": [\n          2,\n          4,\n          0\n        ],\n        \"semantic_type\": \"\",\n        \"description\": \"\"\n      }\n    },\n    {\n      \"column\": \"Direction_quarter\",\n      \"properties\": {\n        \"dtype\": \"number\",\n        \"std\": 0,\n        \"min\": 0,\n        \"max\": 1,\n        \"num_unique_values\": 2,\n        \"samples\": [\n          1,\n          0\n        ],\n        \"semantic_type\": \"\",\n        \"description\": \"\"\n      }\n    }\n  ]\n}"
            }
          },
          "metadata": {},
          "execution_count": 139
        }
      ]
    },
    {
      "cell_type": "code",
      "source": [
        "# Split into train/test (temporal split)\n",
        "split_idx = int(0.8 * len(df_standardized))\n",
        "train_df = df_standardized.iloc[:split_idx]\n",
        "test_df = df_standardized.iloc[split_idx:]"
      ],
      "metadata": {
        "id": "ev4Zar5XQAyD"
      },
      "execution_count": 140,
      "outputs": []
    },
    {
      "cell_type": "code",
      "source": [
        "train_df.to_csv(\"final_train.csv\", index=False)\n",
        "test_df.to_csv(\"final_test.csv\", index=False)"
      ],
      "metadata": {
        "id": "UrsJ0lEIOt56"
      },
      "execution_count": 143,
      "outputs": []
    },
    {
      "cell_type": "code",
      "source": [],
      "metadata": {
        "id": "NlDelrEseW7V"
      },
      "execution_count": null,
      "outputs": []
    }
  ],
  "metadata": {
    "kernelspec": {
      "display_name": "Python 3 (ipykernel)",
      "language": "python",
      "name": "python3"
    },
    "language_info": {
      "codemirror_mode": {
        "name": "ipython",
        "version": 3
      },
      "file_extension": ".py",
      "mimetype": "text/x-python",
      "name": "python",
      "nbconvert_exporter": "python",
      "pygments_lexer": "ipython3",
      "version": "3.9.21"
    },
    "colab": {
      "provenance": []
    }
  },
  "nbformat": 4,
  "nbformat_minor": 0
}